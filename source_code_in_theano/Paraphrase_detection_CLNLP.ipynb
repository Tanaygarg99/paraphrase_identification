{
 "cells": [
  {
   "cell_type": "code",
   "execution_count": null,
   "id": "0e04fb2d-9f5a-4392-94f1-c46fc91502ff",
   "metadata": {},
   "outputs": [],
   "source": [
    "!pip install streamlit\n",
    "!pip install sentence-transformers\n",
    "!pip install scikit-learn\n",
    "!pip install joblib"
   ]
  },
  {
   "cell_type": "code",
   "execution_count": null,
   "id": "f205f51f-400d-4cf8-af65-dda37150e7c3",
   "metadata": {},
   "outputs": [],
   "source": [
    "import streamlit as st\n",
    "from sentence_transformers import SentenceTransformer\n",
    "from sklearn.linear_model import LogisticRegression\n",
    "from sklearn.metrics.pairwise import cosine_similarity\n",
    "import joblib"
   ]
  },
  {
   "cell_type": "code",
   "execution_count": null,
   "id": "7bf4cd0f-2fc6-4668-95f4-8b7daafcdc89",
   "metadata": {},
   "outputs": [],
   "source": [
    "sentences = [\n",
    "    \n",
    "    (\"How are you?\", \"How do you do?\", 1),\n",
    "    (\"What is your name?\", \"Who are you?\", 1),\n",
    "    (\"He is running\", \"He is jogging\", 1),\n",
    "    (\"I feel great\", \"I'm doing well\", 1),\n",
    "    (\"Do you like ice cream?\", \"Are you a fan of ice cream?\", 1),\n",
    "    \n",
    "    \n",
    "    (\"What time is it?\", \"Where do you live?\", 0),\n",
    "    (\"I love apples\", \"I dislike oranges\", 0),\n",
    "    (\"It is raining today\", \"She is reading a book\", 0),\n",
    "    (\"I have a cat\", \"I love running\", 0),\n",
    "    (\"She works at a hospital\", \"He works in a bank\", 0),\n",
    "]\n",
    "\n",
    "X = []\n",
    "y = []\n",
    "\n",
    "model = SentenceTransformer(\"paraphrase-MiniLM-L6-v2\")\n",
    "\n",
    "for s1, s2, label in sentences:\n",
    "    emb1 = model.encode([s1])[0]  \n",
    "    emb2 = model.encode([s2])[0]  \n",
    "    sim = cosine_similarity([emb1], [emb2])[0][0]  \n",
    "    X.append([sim])\n",
    "    y.append(label)\n",
    "\n",
    "import numpy as np\n",
    "X = np.array(X)\n",
    "y = np.array(y)\n"
   ]
  },
  {
   "cell_type": "code",
   "execution_count": null,
   "id": "0887d595-62c0-4d9f-8122-6f26d1f6f286",
   "metadata": {},
   "outputs": [],
   "source": [
    "clf = LogisticRegression()\n",
    "clf.fit(X, y)\n",
    "\n",
    "joblib.dump(clf, \"paraphrase_classifier.pkl\")\n"
   ]
  },
  {
   "cell_type": "code",
   "execution_count": null,
   "id": "5fa9f288-5334-49a5-a4dd-c747b37fe9f2",
   "metadata": {},
   "outputs": [],
   "source": [
    "import streamlit as st\n",
    "import joblib\n",
    "from sentence_transformers import SentenceTransformer\n",
    "from sklearn.metrics.pairwise import cosine_similarity\n",
    "\n",
    "\n",
    "clf = joblib.load(\"paraphrase_classifier.pkl\")\n",
    "model = SentenceTransformer(\"paraphrase-MiniLM-L6-v2\")\n",
    "\n",
    "\n",
    "st.title(\"🧠 Paraphrase Detection App\")\n",
    "st.write(\"Enter two sentences, and I'll tell you if they are paraphrases!\")\n",
    "\n",
    "\n",
    "sentence1 = st.text_input(\"Enter Sentence 1\")\n",
    "sentence2 = st.text_input(\"Enter Sentence 2\")\n",
    "\n",
    "if st.button(\"Check Paraphrase\"):\n",
    "\n",
    "    emb1 = model.encode([sentence1])[0]\n",
    "    emb2 = model.encode([sentence2])[0]\n",
    "    \n",
    "    \n",
    "    sim = cosine_similarity([emb1], [emb2])[0][0]\n",
    "    \n",
    "    \n",
    "    prediction = clf.predict([[sim]])[0]\n",
    "\n",
    "    \n",
    "    st.write(\"### Result:\")\n",
    "    st.success(\"✅ Paraphrase\" if prediction else \"❌ Not a Paraphrase\")\n",
    "    st.write(\"**Similarity Score:**\", round(sim, 2))\n"
   ]
  },
  {
   "cell_type": "code",
   "execution_count": null,
   "id": "83e6d4ac-cb46-4288-8679-4da150b2b1d4",
   "metadata": {},
   "outputs": [
    {
     "name": "stdout",
     "output_type": "stream",
     "text": [
      "\u001b[0m\n",
      "\u001b[34m\u001b[1m  You can now view your Streamlit app in your browser.\u001b[0m\n",
      "\u001b[0m\n",
      "\u001b[34m  Local URL: \u001b[0m\u001b[1mhttp://localhost:8501\u001b[0m\n",
      "\u001b[34m  Network URL: \u001b[0m\u001b[1mhttp://127.0.0.1:8501\u001b[0m\n",
      "\u001b[0m\n",
      "2025-05-29 23:23:32.661 Examining the path of torch.classes raised: Tried to instantiate class '__path__._path', but it does not exist! Ensure that it is registered via torch::class_\n",
      "2025-05-29 23:24:48.791 Examining the path of torch.classes raised: Tried to instantiate class '__path__._path', but it does not exist! Ensure that it is registered via torch::class_\n"
     ]
    }
   ],
   "source": [
    "!streamlit run paraphrase_app.py"
   ]
  },
  {
   "cell_type": "code",
   "execution_count": null,
   "id": "0fc2d2bd-6f78-44cb-91dd-a7e0b5ccde94",
   "metadata": {},
   "outputs": [],
   "source": []
  }
 ],
 "metadata": {
  "kernelspec": {
   "display_name": "Python 3 (ipykernel)",
   "language": "python",
   "name": "python3"
  },
  "language_info": {
   "codemirror_mode": {
    "name": "ipython",
    "version": 3
   },
   "file_extension": ".py",
   "mimetype": "text/x-python",
   "name": "python",
   "nbconvert_exporter": "python",
   "pygments_lexer": "ipython3",
   "version": "3.12.7"
  }
 },
 "nbformat": 4,
 "nbformat_minor": 5
}
